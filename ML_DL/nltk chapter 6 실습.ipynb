{
 "cells": [
  {
   "cell_type": "code",
   "execution_count": 14,
   "metadata": {},
   "outputs": [],
   "source": [
    "import nltk\n",
    "from nltk.corpus import *"
   ]
  },
  {
   "cell_type": "markdown",
   "metadata": {},
   "source": [
    "# 1.1   Gender Identification\n",
    "In 4 we saw that male and female names have some distinctive characteristics. Names ending in a, e and i are likely to be female, while names ending in k, o, r, s and t are likely to be male. Let's build a classifier to model these differences more precisely."
   ]
  },
  {
   "cell_type": "code",
   "execution_count": 15,
   "metadata": {},
   "outputs": [
    {
     "name": "stdout",
     "output_type": "stream",
     "text": [
      "Gender Classification: 0.766\n"
     ]
    }
   ],
   "source": [
    "from nltk.corpus import *\n",
    "import random\n",
    "labeled_names = ([(name, 'male') for name in names.words('male.txt')] +\n",
    "                 [(name, 'female') for name in names.words('female.txt')])\n",
    "random.shuffle(labeled_names)\n",
    "def gender_features(word):\n",
    "        return {'last_letter': word[-1]}\n",
    "featuresets = [(gender_features(n), gender) for (n, gender) in labeled_names]\n",
    "tran_set, test_set = featuresets[500:], featuresets[:500]\n",
    "train_set, test_set = featuresets[500:], featuresets[:500]\n",
    "classifier = nltk.NaiveBayesClassifier.train(train_set)\n",
    "print(\"Gender Classification:\", nltk.classify.accuracy(classifier, test_set))"
   ]
  },
  {
   "cell_type": "markdown",
   "metadata": {},
   "source": [
    "# 1.2   Choosing The Right Features\n",
    "Selecting relevant features and deciding how to encode them for a learning method can have an enormous impact on the learning method's ability to extract a good model. Much of the interesting work in building a classifier is deciding what features might be relevant, and how we can represent them. Although it's often possible to get decent performance by using a fairly simple and obvious set of features, there are usually significant gains to be had by using carefully constructed features based on a thorough understanding of the task at hand.\n",
    "\n",
    "Typically, feature extractors are built through a process of trial-and-error, guided by intuitions about what information is relevant to the problem. It's common to start with a \"kitchen sink\" approach, including all the features that you can think of, and then checking to see which features actually are helpful. We take this approach for name gender features in 1.2."
   ]
  },
  {
   "cell_type": "code",
   "execution_count": 16,
   "metadata": {},
   "outputs": [
    {
     "name": "stdout",
     "output_type": "stream",
     "text": [
      "0.788\n"
     ]
    }
   ],
   "source": [
    "def gender_features2(name):\n",
    "    features = {}\n",
    "    features[\"first_letter\"] = name[0].lower()\n",
    "    features[\"last_letter\"] = name[-1].lower()\n",
    "    for letter in 'abcdefghijklmnopqrstuvwxyz':\n",
    "        features[\"count({})\".format(letter)] = name.lower().count(letter)\n",
    "        features[\"has({})\".format(letter)] = (letter in name.lower())\n",
    "    return features\n",
    "featuresets = [(gender_features2(n), gender) for (n, gender) in labeled_names]\n",
    "train_set, test_set = featuresets[500:], featuresets[:500]\n",
    "classifier = nltk.NaiveBayesClassifier.train(train_set)\n",
    "print(nltk.classify.accuracy(classifier, test_set))"
   ]
  },
  {
   "cell_type": "markdown",
   "metadata": {},
   "source": [
    "Once an initial set of features has been chosen, a very productive method for refining the feature set is error analysis. First, we select a development set, containing the corpus data for creating the model. This development set is then subdivided into the training set and the dev-test set."
   ]
  },
  {
   "cell_type": "code",
   "execution_count": 17,
   "metadata": {},
   "outputs": [],
   "source": [
    "train_names = labeled_names[1500:]\n",
    "devtest_names = labeled_names[500:1500]\n",
    "test_names = labeled_names[:500]"
   ]
  },
  {
   "cell_type": "code",
   "execution_count": 18,
   "metadata": {},
   "outputs": [
    {
     "name": "stdout",
     "output_type": "stream",
     "text": [
      "0.768\n"
     ]
    }
   ],
   "source": [
    "train_set = [(gender_features(n), gender) for (n, gender) in train_names]\n",
    "devtest_set = [(gender_features(n), gender) for (n, gender) in devtest_names]\n",
    "test_set = [(gender_features(n), gender) for (n, gender) in test_names]\n",
    "classifier = nltk.NaiveBayesClassifier.train(train_set)\n",
    "print(nltk.classify.accuracy(classifier, devtest_set))"
   ]
  },
  {
   "cell_type": "code",
   "execution_count": 19,
   "metadata": {},
   "outputs": [
    {
     "name": "stdout",
     "output_type": "stream",
     "text": [
      "correct=female   guess=male     name=Agnes                         \n",
      "correct=female   guess=male     name=Aleen                         \n",
      "correct=female   guess=male     name=Alix                          \n",
      "correct=female   guess=male     name=Allyn                         \n",
      "correct=female   guess=male     name=Aryn                          \n",
      "correct=female   guess=male     name=Astrix                        \n",
      "correct=female   guess=male     name=Avis                          \n",
      "correct=female   guess=male     name=Bren                          \n",
      "correct=female   guess=male     name=Brenn                         \n",
      "correct=female   guess=male     name=Brigit                        \n",
      "correct=female   guess=male     name=Brooks                        \n",
      "correct=female   guess=male     name=Caitlin                       \n",
      "correct=female   guess=male     name=Calypso                       \n",
      "correct=female   guess=male     name=Carleen                       \n",
      "correct=female   guess=male     name=Carolan                       \n",
      "correct=female   guess=male     name=Carolann                      \n",
      "correct=female   guess=male     name=Cat                           \n",
      "correct=female   guess=male     name=Charleen                      \n",
      "correct=female   guess=male     name=Charlott                      \n",
      "correct=female   guess=male     name=Cherilynn                     \n",
      "correct=female   guess=male     name=Cherin                        \n",
      "correct=female   guess=male     name=Chloris                       \n",
      "correct=female   guess=male     name=Diahann                       \n",
      "correct=female   guess=male     name=Doralynn                      \n",
      "correct=female   guess=male     name=Doris                         \n",
      "correct=female   guess=male     name=Dyan                          \n",
      "correct=female   guess=male     name=Ealasaid                      \n",
      "correct=female   guess=male     name=Elinor                        \n",
      "correct=female   guess=male     name=Ellen                         \n",
      "correct=female   guess=male     name=Emlynn                        \n",
      "correct=female   guess=male     name=Eran                          \n",
      "correct=female   guess=male     name=Erinn                         \n",
      "correct=female   guess=male     name=Floris                        \n",
      "correct=female   guess=male     name=Gates                         \n",
      "correct=female   guess=male     name=Gaynor                        \n",
      "correct=female   guess=male     name=Gladys                        \n",
      "correct=female   guess=male     name=Glynis                        \n",
      "correct=female   guess=male     name=Gus                           \n",
      "correct=female   guess=male     name=Isis                          \n",
      "correct=female   guess=male     name=Jackquelin                    \n",
      "correct=female   guess=male     name=Jacquelin                     \n",
      "correct=female   guess=male     name=Jacquelyn                     \n",
      "correct=female   guess=male     name=Jan                           \n",
      "correct=female   guess=male     name=Janet                         \n",
      "correct=female   guess=male     name=Jess                          \n",
      "correct=female   guess=male     name=Jilleen                       \n",
      "correct=female   guess=male     name=Joannes                       \n",
      "correct=female   guess=male     name=Joleen                        \n",
      "correct=female   guess=male     name=Jonis                         \n",
      "correct=female   guess=male     name=Joyous                        \n",
      "correct=female   guess=male     name=Kaitlyn                       \n",
      "correct=female   guess=male     name=Karleen                       \n",
      "correct=female   guess=male     name=Kevyn                         \n",
      "correct=female   guess=male     name=Kristyn                       \n",
      "correct=female   guess=male     name=Kylen                         \n",
      "correct=female   guess=male     name=Kyrstin                       \n",
      "correct=female   guess=male     name=Lauryn                        \n",
      "correct=female   guess=male     name=Lynnett                       \n",
      "correct=female   guess=male     name=Margalo                       \n",
      "correct=female   guess=male     name=Margo                         \n",
      "correct=female   guess=male     name=Marilin                       \n",
      "correct=female   guess=male     name=Marylou                       \n",
      "correct=female   guess=male     name=Maud                          \n",
      "correct=female   guess=male     name=Melicent                      \n",
      "correct=female   guess=male     name=Merilyn                       \n",
      "correct=female   guess=male     name=Mikako                        \n",
      "correct=female   guess=male     name=Milissent                     \n",
      "correct=female   guess=male     name=Miran                         \n",
      "correct=female   guess=male     name=Pet                           \n",
      "correct=female   guess=male     name=Pris                          \n",
      "correct=female   guess=male     name=Quinn                         \n",
      "correct=female   guess=male     name=Raf                           \n",
      "correct=female   guess=male     name=Reiko                         \n",
      "correct=female   guess=male     name=Robbin                        \n",
      "correct=female   guess=male     name=Robyn                         \n",
      "correct=female   guess=male     name=Ros                           \n",
      "correct=female   guess=male     name=Rosalynd                      \n",
      "correct=female   guess=male     name=Roselin                       \n",
      "correct=female   guess=male     name=Roslyn                        \n",
      "correct=female   guess=male     name=Rozamond                      \n",
      "correct=female   guess=male     name=Ryann                         \n",
      "correct=female   guess=male     name=Shaun                         \n",
      "correct=female   guess=male     name=Sioux                         \n",
      "correct=female   guess=male     name=Storm                         \n",
      "correct=female   guess=male     name=Suellen                       \n",
      "correct=female   guess=male     name=Tamar                         \n",
      "correct=female   guess=male     name=Tiff                          \n",
      "correct=female   guess=male     name=Tomiko                        \n",
      "correct=female   guess=male     name=Trix                          \n",
      "correct=female   guess=male     name=Violet                        \n",
      "correct=female   guess=male     name=Willow                        \n",
      "correct=female   guess=male     name=Wren                          \n",
      "correct=male     guess=female   name=Abe                           \n",
      "correct=male     guess=female   name=Aguste                        \n",
      "correct=male     guess=female   name=Ajay                          \n",
      "correct=male     guess=female   name=Alfonse                       \n",
      "correct=male     guess=female   name=Amory                         \n",
      "correct=male     guess=female   name=Ansell                        \n",
      "correct=male     guess=female   name=Archie                        \n",
      "correct=male     guess=female   name=Arie                          \n",
      "correct=male     guess=female   name=Ashley                        \n",
      "correct=male     guess=female   name=Averil                        \n",
      "correct=male     guess=female   name=Axel                          \n",
      "correct=male     guess=female   name=Barnaby                       \n",
      "correct=male     guess=female   name=Barney                        \n",
      "correct=male     guess=female   name=Bartie                        \n",
      "correct=male     guess=female   name=Benji                         \n",
      "correct=male     guess=female   name=Benjie                        \n",
      "correct=male     guess=female   name=Berke                         \n",
      "correct=male     guess=female   name=Berkley                       \n",
      "correct=male     guess=female   name=Bobbie                        \n",
      "correct=male     guess=female   name=Brady                         \n",
      "correct=male     guess=female   name=Brody                         \n",
      "correct=male     guess=female   name=Burnaby                       \n",
      "correct=male     guess=female   name=Butch                         \n",
      "correct=male     guess=female   name=Case                          \n",
      "correct=male     guess=female   name=Chance                        \n",
      "correct=male     guess=female   name=Chrisy                        \n",
      "correct=male     guess=female   name=Clancy                        \n",
      "correct=male     guess=female   name=Clive                         \n",
      "correct=male     guess=female   name=Connie                        \n",
      "correct=male     guess=female   name=Corey                         \n",
      "correct=male     guess=female   name=Dani                          \n",
      "correct=male     guess=female   name=Danny                         \n",
      "correct=male     guess=female   name=Dante                         \n",
      "correct=male     guess=female   name=Darryl                        \n",
      "correct=male     guess=female   name=Dennie                        \n",
      "correct=male     guess=female   name=Dickie                        \n",
      "correct=male     guess=female   name=Dougie                        \n",
      "correct=male     guess=female   name=Duffy                         \n",
      "correct=male     guess=female   name=Erl                           \n",
      "correct=male     guess=female   name=Franky                        \n",
      "correct=male     guess=female   name=Gabriele                      \n",
      "correct=male     guess=female   name=Garey                         \n",
      "correct=male     guess=female   name=Giffy                         \n",
      "correct=male     guess=female   name=Guy                           \n",
      "correct=male     guess=female   name=Hamil                         \n",
      "correct=male     guess=female   name=Hamish                        \n",
      "correct=male     guess=female   name=Hansel                        \n",
      "correct=male     guess=female   name=Heath                         \n",
      "correct=male     guess=female   name=Heinrich                      \n",
      "correct=male     guess=female   name=Helmuth                       \n",
      "correct=male     guess=female   name=Herve                         \n",
      "correct=male     guess=female   name=Hill                          \n",
      "correct=male     guess=female   name=Hillary                       \n",
      "correct=male     guess=female   name=Humphrey                      \n",
      "correct=male     guess=female   name=Huntlee                       \n",
      "correct=male     guess=female   name=Hymie                         \n",
      "correct=male     guess=female   name=Ishmael                       \n",
      "correct=male     guess=female   name=Izzy                          \n",
      "correct=male     guess=female   name=Jaime                         \n",
      "correct=male     guess=female   name=Jay                           \n",
      "correct=male     guess=female   name=Jean-Pierre                   \n",
      "correct=male     guess=female   name=Jereme                        \n",
      "correct=male     guess=female   name=Jerrome                       \n",
      "correct=male     guess=female   name=Jeth                          \n",
      "correct=male     guess=female   name=Joel                          \n",
      "correct=male     guess=female   name=Johnnie                       \n",
      "correct=male     guess=female   name=Jonny                         \n",
      "correct=male     guess=female   name=Jude                          \n",
      "correct=male     guess=female   name=Karel                         \n",
      "correct=male     guess=female   name=Kennedy                       \n",
      "correct=male     guess=female   name=Kingsly                       \n",
      "correct=male     guess=female   name=Kory                          \n",
      "correct=male     guess=female   name=Lemmie                        \n",
      "correct=male     guess=female   name=Lenny                         \n",
      "correct=male     guess=female   name=Marchall                      \n",
      "correct=male     guess=female   name=Marshal                       \n",
      "correct=male     guess=female   name=Marshall                      \n",
      "correct=male     guess=female   name=Martie                        \n",
      "correct=male     guess=female   name=Marve                         \n",
      "correct=male     guess=female   name=Maury                         \n",
      "correct=male     guess=female   name=Meade                         \n",
      "correct=male     guess=female   name=Merry                         \n",
      "correct=male     guess=female   name=Micheal                       \n",
      "correct=male     guess=female   name=Mickie                        \n",
      "correct=male     guess=female   name=Mikael                        \n",
      "correct=male     guess=female   name=Mitchael                      \n",
      "correct=male     guess=female   name=Moe                           \n",
      "correct=male     guess=female   name=Moore                         \n",
      "correct=male     guess=female   name=Mortie                        \n",
      "correct=male     guess=female   name=Myke                          \n",
      "correct=male     guess=female   name=Nathaniel                     \n",
      "correct=male     guess=female   name=Odie                          \n",
      "correct=male     guess=female   name=Ossie                         \n",
      "correct=male     guess=female   name=Partha                        \n",
      "correct=male     guess=female   name=Patel                         \n",
      "correct=male     guess=female   name=Patrice                       \n",
      "correct=male     guess=female   name=Pepe                          \n",
      "correct=male     guess=female   name=Percival                      \n",
      "correct=male     guess=female   name=Pooh                          \n",
      "correct=male     guess=female   name=Quiggly                       \n",
      "correct=male     guess=female   name=Rabbi                         \n",
      "correct=male     guess=female   name=Rafael                        \n",
      "correct=male     guess=female   name=Ralph                         \n",
      "correct=male     guess=female   name=Rawley                        \n",
      "correct=male     guess=female   name=Ray                           \n",
      "correct=male     guess=female   name=Reube                         \n",
      "correct=male     guess=female   name=Roderich                      \n",
      "correct=male     guess=female   name=Roni                          \n",
      "correct=male     guess=female   name=Ronny                         \n",
      "correct=male     guess=female   name=Rourke                        \n",
      "correct=male     guess=female   name=Rufe                          \n",
      "correct=male     guess=female   name=Russel                        \n",
      "correct=male     guess=female   name=Rustie                        \n",
      "correct=male     guess=female   name=Scarface                      \n",
      "correct=male     guess=female   name=Selby                         \n",
      "correct=male     guess=female   name=Sergei                        \n",
      "correct=male     guess=female   name=Shayne                        \n",
      "correct=male     guess=female   name=Sheffy                        \n",
      "correct=male     guess=female   name=Shurlocke                     \n",
      "correct=male     guess=female   name=Siddhartha                    \n",
      "correct=male     guess=female   name=Stearne                       \n",
      "correct=male     guess=female   name=Stevie                        \n",
      "correct=male     guess=female   name=Tedie                         \n",
      "correct=male     guess=female   name=Terrell                       \n",
      "correct=male     guess=female   name=Thorpe                        \n",
      "correct=male     guess=female   name=Tobiah                        \n",
      "correct=male     guess=female   name=Tremayne                      \n",
      "correct=male     guess=female   name=Tull                          \n",
      "correct=male     guess=female   name=Tyrone                        \n",
      "correct=male     guess=female   name=Waine                         \n",
      "correct=male     guess=female   name=Waite                         \n",
      "correct=male     guess=female   name=Wally                         \n",
      "correct=male     guess=female   name=Welby                         \n",
      "correct=male     guess=female   name=Winnie                        \n",
      "correct=male     guess=female   name=Witty                         \n",
      "correct=male     guess=female   name=Worthy                        \n",
      "correct=male     guess=female   name=Zach                          \n",
      "correct=male     guess=female   name=Zachariah                     \n",
      "correct=male     guess=female   name=Zacherie                      \n",
      "correct=male     guess=female   name=Zane                          \n"
     ]
    }
   ],
   "source": [
    "errors = []\n",
    "for (name, tag) in devtest_names:\n",
    "     guess = classifier.classify(gender_features(name))\n",
    "     if guess != tag:\n",
    "         errors.append( (tag, guess, name) )\n",
    "for (tag, guess, name) in sorted(errors):\n",
    "     print('correct={:<8} guess={:<8s} name={:<30}'.format(tag, guess, name))"
   ]
  },
  {
   "cell_type": "code",
   "execution_count": 20,
   "metadata": {},
   "outputs": [],
   "source": [
    "def gender_features(word):\n",
    "     return {'suffix1': word[-1:],\n",
    "             'suffix2': word[-2:]}"
   ]
  },
  {
   "cell_type": "code",
   "execution_count": 21,
   "metadata": {},
   "outputs": [
    {
     "name": "stdout",
     "output_type": "stream",
     "text": [
      "0.772\n"
     ]
    }
   ],
   "source": [
    "train_set = [(gender_features(n), gender) for (n, gender) in train_names]\n",
    "devtest_set = [(gender_features(n), gender) for (n, gender) in devtest_names]\n",
    "classifier = nltk.NaiveBayesClassifier.train(train_set)\n",
    "print(nltk.classify.accuracy(classifier, devtest_set))"
   ]
  },
  {
   "cell_type": "markdown",
   "metadata": {},
   "source": [
    "# 1.3   Document Classification\n",
    "In 1, we saw several examples of corpora where documents have been labeled with categories. Using these corpora, we can build classifiers that will automatically tag new documents with appropriate category labels. First, we construct a list of documents, labeled with the appropriate categories. For this example, we've chosen the Movie Reviews Corpus, which categorizes each review as positive or negative."
   ]
  },
  {
   "cell_type": "code",
   "execution_count": 22,
   "metadata": {},
   "outputs": [
    {
     "name": "stdout",
     "output_type": "stream",
     "text": [
      "Document Classification: 0.81\n"
     ]
    }
   ],
   "source": [
    "import nltk\n",
    "import random\n",
    "from nltk.corpus import movie_reviews\n",
    "documents = [(list(movie_reviews.words(fileid)), category)\n",
    "             for category in movie_reviews.categories()\n",
    "             for fileid in movie_reviews.fileids(category)]\n",
    "random.shuffle(documents)\n",
    "all_words = nltk.FreqDist(w.lower() for w in movie_reviews.words())\n",
    "word_features = list(all_words)[:2000]\n",
    "def document_features(document):\n",
    "      document_words = set(document)\n",
    "      features = {}\n",
    "      for word in word_features:\n",
    "              features['contains({})'.format(word)] = (word in document_words)\n",
    "      return features\n",
    "featuresets = [(document_features(d), c) for (d,c) in documents]\n",
    "train_set, test_set = featuresets[100:], featuresets[:100]\n",
    "classifier = nltk.NaiveBayesClassifier.train(train_set)\n",
    "print(\"Document Classification:\", nltk.classify.accuracy(classifier,test_set))"
   ]
  },
  {
   "cell_type": "markdown",
   "metadata": {},
   "source": [
    "# 1.4   Part-of-Speech Tagging\n",
    "In 5. we built a regular expression tagger that chooses a part-of-speech tag for a word by looking at the internal make-up of the word. However, this regular expression tagger had to be hand-crafted. Instead, we can train a classifier to work out which suffixes are most informative. Let's begin by finding out what the most common suffixes are:"
   ]
  },
  {
   "cell_type": "code",
   "execution_count": 23,
   "metadata": {},
   "outputs": [
    {
     "name": "stdout",
     "output_type": "stream",
     "text": [
      "POS Tagging: 0.6270512182993535\n"
     ]
    }
   ],
   "source": [
    "from nltk.corpus import brown\n",
    "suffix_fdist = nltk.FreqDist()\n",
    "for word in brown.words():\n",
    "        word = word.lower()\n",
    "        suffix_fdist[word[-1:]] += 1\n",
    "        suffix_fdist[word[-2:]] += 1\n",
    "        suffix_fdist[word[-3:]] += 1\n",
    "common_suffixes = [suffix for (suffix, count) in suffix_fdist.most_common(100)]\n",
    "def pos_features(word):\n",
    "        features = {}\n",
    "        for suffix in common_suffixes:\n",
    "                features['endswith({})'.format(suffix)] = word.lower().endswith(suffix)\n",
    "        return features\n",
    "tagged_words = brown.tagged_words(categories='news')\n",
    "featuresets = [(pos_features(n), g) for (n,g) in tagged_words]\n",
    "size = int(len(featuresets) * 0.1)\n",
    "train_set, test_set = featuresets[size:], featuresets[:size]\n",
    "classifier = nltk.DecisionTreeClassifier.train(train_set)\n",
    "print(\"POS Tagging:\", nltk.classify.accuracy(classifier,test_set))"
   ]
  },
  {
   "cell_type": "markdown",
   "metadata": {},
   "source": [
    "# 1.5   Exploiting Context\n",
    "By augmenting the feature extraction function, we could modify this part-of-speech tagger to leverage a variety of other word-internal features, such as the length of the word, the number of syllables it contains, or its prefix. However, as long as the feature extractor just looks at the target word, we have no way to add features that depend on the context that the word appears in. But contextual features often provide powerful clues about the correct tag — for example, when tagging the word \"fly,\" knowing that the previous word is \"a\" will allow us to determine that it is functioning as a noun, not a verb."
   ]
  },
  {
   "cell_type": "code",
   "execution_count": 1,
   "metadata": {},
   "outputs": [],
   "source": [
    "def pos_features(sentence, i): \n",
    "    features = {\"suffix(1)\": sentence[i][-1:],\n",
    "                \"suffix(2)\": sentence[i][-2:],\n",
    "                \"suffix(3)\": sentence[i][-3:]}\n",
    "    if i == 0:\n",
    "        features[\"prev-word\"] = \"<START>\"\n",
    "    else:\n",
    "        features[\"prev-word\"] = sentence[i-1]\n",
    "    return features"
   ]
  },
  {
   "cell_type": "code",
   "execution_count": null,
   "metadata": {},
   "outputs": [],
   "source": [
    "pos_features(brown.sents()[0], 8)\n",
    "\n",
    "tagged_sents = brown.tagged_sents(categories='news')\n",
    "featuresets = []\n",
    "for tagged_sent in tagged_sents:\n",
    "     untagged_sent = nltk.tag.untag(tagged_sent)\n",
    "     for i, (word, tag) in enumerate(tagged_sent):\n",
    "         featuresets.append( (pos_features(untagged_sent, i), tag) )\n",
    "\n",
    "size = int(len(featuresets) * 0.1)\n",
    "train_set, test_set = featuresets[size:], featuresets[:size]\n",
    "classifier = nltk.NaiveBayesClassifier.train(train_set)\n",
    "\n",
    "nltk.classify.accuracy(classifier, test_set)"
   ]
  },
  {
   "cell_type": "markdown",
   "metadata": {},
   "source": [
    "# 1.6   Sequence Classification\n",
    "In order to capture the dependencies between related classification tasks, we can use joint classifier models, which choose an appropriate labeling for a collection of related inputs. In the case of part-of-speech tagging, a variety of different sequence classifier models can be used to jointly choose part-of-speech tags for all the words in a given sentence.\n",
    "\n",
    "One sequence classification strategy, known as consecutive classification or greedy sequence classification, is to find the most likely class label for the first input, then to use that answer to help find the best label for the next input. The process can then be repeated until all of the inputs have been labeled. This is the approach that was taken by the bigram tagger from 5, which began by choosing a part-of-speech tag for the first word in the sentence, and then chose the tag for each subsequent word based on the word itself and the predicted tag for the previous word."
   ]
  },
  {
   "cell_type": "code",
   "execution_count": 28,
   "metadata": {},
   "outputs": [
    {
     "name": "stdout",
     "output_type": "stream",
     "text": [
      "Consecutive POS Tagger: 0.7980528511821975\n"
     ]
    }
   ],
   "source": [
    "def pos_features(sentence, i, history):\n",
    "        features = {\"suffix(1)\": sentence[i][-1:],\n",
    "                    \"suffix(2)\": sentence[i][-2:],\n",
    "                    \"suffix(3)\": sentence[i][-3:]}\n",
    "        if i == 0:\n",
    "                features[\"prev-word\"] = \"<START>\"\n",
    "                features[\"prev-tag\"] = \"<START>\"\n",
    "        else:\n",
    "                features[\"prev-word\"] = sentence[i-1]\n",
    "                features[\"prev-tag\"] = history[i-1]\n",
    "        return features\n",
    "class ConsecutivePosTagger(nltk.TaggerI):\n",
    "        def __init__(self, train_sents):\n",
    "                train_set = []\n",
    "                for tagged_sent in train_sents:\n",
    "                    untagged_sent = nltk.tag.untag(tagged_sent)\n",
    "                    history = []\n",
    "                    for i, (word, tag) in enumerate(tagged_sent):\n",
    "                        featureset = pos_features(untagged_sent, i, history)\n",
    "                        train_set.append( (featureset, tag) )\n",
    "                        history.append(tag)\n",
    "                self.classifier = nltk.NaiveBayesClassifier.train(train_set)\n",
    "        def tag(self, sentence):\n",
    "                history = []\n",
    "                for i, word in enumerate(sentence):\n",
    "                    featureset = pos_features(sentence, i, history)\n",
    "                    tag = self.classifier.classify(featureset)\n",
    "                    history.append(tag)\n",
    "                return zip(sentence, history)\n",
    "tagged_sents = brown.tagged_sents(categories='news')\n",
    "size = int(len(tagged_sents) * 0.1)\n",
    "train_sents, test_sents = tagged_sents[size:], tagged_sents[:size]\n",
    "tagger = ConsecutivePosTagger(train_sents)\n",
    "print(\"Consecutive POS Tagger:\", tagger.evaluate(test_sents))"
   ]
  },
  {
   "cell_type": "markdown",
   "metadata": {},
   "source": [
    "# 2.1   Sentence Segmentation\n",
    "Sentence segmentation can be viewed as a classification task for punctuation: whenever we encounter a symbol that could possibly end a sentence, such as a period or a question mark, we have to decide whether it terminates the preceding sentence.\n",
    "\n",
    "The first step is to obtain some data that has already been segmented into sentences and convert it into a form that is suitable for extracting features:"
   ]
  },
  {
   "cell_type": "code",
   "execution_count": 29,
   "metadata": {},
   "outputs": [
    {
     "name": "stdout",
     "output_type": "stream",
     "text": [
      "Sentence Segmentation: 0.936026936026936\n"
     ]
    }
   ],
   "source": [
    "def segment_sentences(words):\n",
    "    start = 0\n",
    "    sents = []\n",
    "    for i, word in enumerate(words):\n",
    "        if word in '.?!' and classifier.classify(punct_features(words, i)) == True:\n",
    "            sents.append(words[start:i+1])\n",
    "            start = i+1\n",
    "    if start < len(words):\n",
    "        sents.append(words[start:])\n",
    "    return sents\n",
    "\n",
    "sents = nltk.corpus.treebank_raw.sents()\n",
    "tokens = []\n",
    "boundaries = set()\n",
    "offset = 0\n",
    "for sent in sents:\n",
    "        tokens.extend(sent)\n",
    "        offset += len(sent)\n",
    "        boundaries.add(offset-1)\n",
    "def punct_features(tokens, i):\n",
    "        return {'next-word-capitalized': tokens[i+1][0].isupper(),\n",
    "                'prev-word': tokens[i-1].lower(),\n",
    "                'punct': tokens[i],\n",
    "                'prev-word-is-one-char': len(tokens[i-1]) == 1}\n",
    "featuresets = [(punct_features(tokens, i), (i in boundaries))\n",
    "        for i in range(1, len(tokens)-1)\n",
    "                if tokens[i] in '.?!']\n",
    "size = int(len(featuresets) * 0.1)\n",
    "train_set, test_set = featuresets[size:], featuresets[:size]\n",
    "classifier = nltk.NaiveBayesClassifier.train(train_set)\n",
    "nltk.classify.accuracy(classifier, test_set)\n",
    "print(\"Sentence Segmentation:\", nltk.classify.accuracy(classifier, test_set))"
   ]
  },
  {
   "cell_type": "markdown",
   "metadata": {},
   "source": [
    "# 2.2   Identifying Dialogue Act Types\n",
    "When processing dialogue, it can be useful to think of utterances as a type of action performed by the speaker. This interpretation is most straightforward for performative statements such as \"I forgive you\" or \"I bet you can't climb that hill.\" But greetings, questions, answers, assertions, and clarifications can all be thought of as types of speech-based actions. Recognizing the dialogue acts underlying the utterances in a dialogue can be an important first step in understanding the conversation.\n",
    "\n",
    "The NPS Chat Corpus, which was demonstrated in 1, consists of over 10,000 posts from instant messaging sessions. These posts have all been labeled with one of 15 dialogue act types, such as \"Statement,\" \"Emotion,\" \"ynQuestion\", and \"Continuer.\" We can therefore use this data to build a classifier that can identify the dialogue act types for new instant messaging posts. The first step is to extract the basic messaging data. We will call xml_posts() to get a data structure representing the XML annotation for each post:# "
   ]
  },
  {
   "cell_type": "code",
   "execution_count": 30,
   "metadata": {},
   "outputs": [
    {
     "name": "stdout",
     "output_type": "stream",
     "text": [
      "Dialog Act Type: 0.668\n"
     ]
    }
   ],
   "source": [
    "posts = nltk.corpus.nps_chat.xml_posts()[:10000]\n",
    "def dialogue_act_features(post):\n",
    "        features = {}\n",
    "        for word in nltk.word_tokenize(post):\n",
    "                features['contains({})'.format(word.lower())] = True\n",
    "        return features\n",
    "featuresets = [(dialogue_act_features(post.text), post.get('class')) for post in posts]\n",
    "size = int(len(featuresets) * 0.1)\n",
    "train_set, test_set = featuresets[size:], featuresets[:size]\n",
    "classifier = nltk.NaiveBayesClassifier.train(train_set)\n",
    "print(\"Dialog Act Type:\", nltk.classify.accuracy(classifier, test_set))"
   ]
  },
  {
   "cell_type": "markdown",
   "metadata": {},
   "source": [
    "# 2.3   Recognizing Textual Entailment\n",
    "Recognizing textual entailment (RTE) is the task of determining whether a given piece of text T entails another text called the \"hypothesis\" (as already discussed in 5). To date, there have been four RTE Challenges, where shared development and test data is made available to competing teams. Here are a couple of examples of text/hypothesis pairs from the Challenge 3 development dataset. The label True indicates that the entailment holds, and False, that it fails to hold."
   ]
  },
  {
   "cell_type": "code",
   "execution_count": 31,
   "metadata": {},
   "outputs": [
    {
     "name": "stdout",
     "output_type": "stream",
     "text": [
      "RTE Recognition: 0.4625\n"
     ]
    }
   ],
   "source": [
    "rtepairs = nltk.corpus.rte.pairs(['rte3_dev.xml'])\n",
    "def rte_features(rtepair):\n",
    "    extractor = nltk.RTEFeatureExtractor(rtepair)\n",
    "    features = {}\n",
    "    features['word_overlap'] = len(extractor.overlap('word'))\n",
    "    features['word_hyp_extra'] = len(extractor.hyp_extra('word'))\n",
    "    features['ne_overlap'] = len(extractor.overlap('ne'))\n",
    "    features['ne_hyp_extra'] = len(extractor.hyp_extra('ne'))\n",
    "    return features\n",
    "featuresets = [(rte_features(rtepair), rtepair.value) for rtepair in rtepairs]\n",
    "size = int(len(featuresets) * 0.1)\n",
    "train_set, test_set = featuresets[size:], featuresets[:size]\n",
    "classifier = nltk.NaiveBayesClassifier.train(train_set)\n",
    "print(\"RTE Recognition:\", nltk.classify.accuracy(classifier, test_set))"
   ]
  },
  {
   "cell_type": "markdown",
   "metadata": {},
   "source": [
    "# NLTK에서 scikit-learn Wrapper를 활용\n",
    "https://youtu.be/nla4C-VYNEU \n",
    "https://www.python-course.eu/neural_networks_with_scikit.php"
   ]
  },
  {
   "cell_type": "code",
   "execution_count": 32,
   "metadata": {},
   "outputs": [
    {
     "name": "stdout",
     "output_type": "stream",
     "text": [
      "MNB Accuracy: 80.0\n"
     ]
    }
   ],
   "source": [
    "import nltk\n",
    "import random\n",
    "from nltk.corpus import movie_reviews\n",
    "import pickle\n",
    "from nltk.classify.scikitlearn import SklearnClassifier\n",
    "from sklearn.naive_bayes import MultinomialNB\n",
    "MNH_classifier = SklearnClassifier(MultinomialNB())\n",
    "documents = [(list(movie_reviews.words(fileid)), category)\n",
    "             for category in movie_reviews.categories()\n",
    "             for fileid in movie_reviews.fileids(category)]\n",
    "random.shuffle(documents)\n",
    "all_words = []\n",
    "for w in movie_reviews.words():\n",
    "  all_words.append(w.lower())\n",
    "all_words = nltk.FreqDist(all_words)\n",
    "word_features = list(all_words.keys())[:3000]\n",
    "def find_features(document):\n",
    "      words = set(document)\n",
    "      features = {}\n",
    "      for w in word_features:\n",
    "              features[w] = (w in words)\n",
    "      return features\n",
    "featuresets = [(find_features(rev), category) for (rev, category) in documents]\n",
    "training_set = featuresets[:1900]\n",
    "testing_set = featuresets[1900:]\n",
    "MNB_classifier = SklearnClassifier(MultinomialNB())\n",
    "MNB_classifier.train(training_set)\n",
    "print(\"MNB Accuracy:\", (nltk.classify.accuracy(MNB_classifier,testing_set))*100)"
   ]
  }
 ],
 "metadata": {
  "kernelspec": {
   "display_name": "Python 3",
   "language": "python",
   "name": "python3"
  },
  "language_info": {
   "codemirror_mode": {
    "name": "ipython",
    "version": 3
   },
   "file_extension": ".py",
   "mimetype": "text/x-python",
   "name": "python",
   "nbconvert_exporter": "python",
   "pygments_lexer": "ipython3",
   "version": "3.7.6"
  }
 },
 "nbformat": 4,
 "nbformat_minor": 4
}
