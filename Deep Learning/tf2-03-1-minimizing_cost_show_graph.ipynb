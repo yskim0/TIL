{
 "cells": [
  {
   "cell_type": "code",
   "execution_count": 1,
   "metadata": {},
   "outputs": [],
   "source": [
    "import numpy as np\n",
    "import tensorflow as tf\n",
    "import matplotlib.pyplot as plt"
   ]
  },
  {
   "cell_type": "code",
   "execution_count": 2,
   "metadata": {},
   "outputs": [],
   "source": [
    "x_train = [1,2,3,4]\n",
    "y_train = [0,-1,-2,-3]"
   ]
  },
  {
   "cell_type": "code",
   "execution_count": 3,
   "metadata": {},
   "outputs": [],
   "source": [
    "tf.model = tf.keras.Sequential()\n",
    "#tf.model.add(tf.keras.layers.Dense(units=1, input_shape=(1,)))\n",
    "tf.model.add(tf.keras.layers.Dense(units=1, input_dim=1))"
   ]
  },
  {
   "cell_type": "markdown",
   "metadata": {},
   "source": [
    "```\n",
    "### as first layer in a sequential model:\n",
    "model = Sequential()\n",
    "model.add(Dense(32, input_shape=(16,)))\n",
    "### now the model will take as input arrays of shape (*, 16)\n",
    "### and output arrays of shape (*, 32)\n",
    "\n",
    "### after the first layer, you don't need to specify\n",
    "### the size of the input anymore:\n",
    "model.add(Dense(32))\n",
    "```\n",
    "\n",
    "`input_shape`, `input_dim`은 첫번째 층에서 선언해줘야 한다."
   ]
  },
  {
   "cell_type": "code",
   "execution_count": 4,
   "metadata": {},
   "outputs": [],
   "source": [
    "sgd = tf.keras.optimizers.SGD(lr=0.1)\n",
    "tf.model.compile(loss='mse', optimizer=sgd)\n"
   ]
  },
  {
   "cell_type": "code",
   "execution_count": 5,
   "metadata": {},
   "outputs": [
    {
     "name": "stdout",
     "output_type": "stream",
     "text": [
      "Model: \"sequential\"\n",
      "_________________________________________________________________\n",
      "Layer (type)                 Output Shape              Param #   \n",
      "=================================================================\n",
      "dense (Dense)                (None, 1)                 2         \n",
      "=================================================================\n",
      "Total params: 2\n",
      "Trainable params: 2\n",
      "Non-trainable params: 0\n",
      "_________________________________________________________________\n"
     ]
    }
   ],
   "source": [
    "tf.model.summary()"
   ]
  },
  {
   "cell_type": "code",
   "execution_count": 6,
   "metadata": {},
   "outputs": [
    {
     "name": "stdout",
     "output_type": "stream",
     "text": [
      "Train on 4 samples\n",
      "Epoch 1/100\n",
      "4/4 [==============================] - 0s 75ms/sample - loss: 35.2943\n",
      "Epoch 2/100\n",
      "4/4 [==============================] - 0s 2ms/sample - loss: 16.0723\n",
      "Epoch 3/100\n",
      "4/4 [==============================] - 0s 2ms/sample - loss: 7.4287\n",
      "Epoch 4/100\n",
      "4/4 [==============================] - 0s 2ms/sample - loss: 3.5353\n",
      "Epoch 5/100\n",
      "4/4 [==============================] - 0s 2ms/sample - loss: 1.7755\n",
      "Epoch 6/100\n",
      "4/4 [==============================] - 0s 2ms/sample - loss: 0.9742\n",
      "Epoch 7/100\n",
      "4/4 [==============================] - 0s 2ms/sample - loss: 0.6040\n",
      "Epoch 8/100\n",
      "4/4 [==============================] - 0s 2ms/sample - loss: 0.4280\n",
      "Epoch 9/100\n",
      "4/4 [==============================] - 0s 2ms/sample - loss: 0.3397\n",
      "Epoch 10/100\n",
      "4/4 [==============================] - 0s 2ms/sample - loss: 0.2914\n",
      "Epoch 11/100\n",
      "4/4 [==============================] - 0s 2ms/sample - loss: 0.2615\n",
      "Epoch 12/100\n",
      "4/4 [==============================] - 0s 2ms/sample - loss: 0.2404\n",
      "Epoch 13/100\n",
      "4/4 [==============================] - 0s 2ms/sample - loss: 0.2236\n",
      "Epoch 14/100\n",
      "4/4 [==============================] - 0s 2ms/sample - loss: 0.2093\n",
      "Epoch 15/100\n",
      "4/4 [==============================] - 0s 2ms/sample - loss: 0.1964\n",
      "Epoch 16/100\n",
      "4/4 [==============================] - 0s 2ms/sample - loss: 0.1846\n",
      "Epoch 17/100\n",
      "4/4 [==============================] - 0s 2ms/sample - loss: 0.1736\n",
      "Epoch 18/100\n",
      "4/4 [==============================] - 0s 2ms/sample - loss: 0.1633\n",
      "Epoch 19/100\n",
      "4/4 [==============================] - 0s 2ms/sample - loss: 0.1537\n",
      "Epoch 20/100\n",
      "4/4 [==============================] - 0s 2ms/sample - loss: 0.1446\n",
      "Epoch 21/100\n",
      "4/4 [==============================] - 0s 2ms/sample - loss: 0.1361\n",
      "Epoch 22/100\n",
      "4/4 [==============================] - 0s 2ms/sample - loss: 0.1280\n",
      "Epoch 23/100\n",
      "4/4 [==============================] - 0s 2ms/sample - loss: 0.1205\n",
      "Epoch 24/100\n",
      "4/4 [==============================] - 0s 2ms/sample - loss: 0.1134\n",
      "Epoch 25/100\n",
      "4/4 [==============================] - 0s 2ms/sample - loss: 0.1067\n",
      "Epoch 26/100\n",
      "4/4 [==============================] - 0s 2ms/sample - loss: 0.1004\n",
      "Epoch 27/100\n",
      "4/4 [==============================] - 0s 2ms/sample - loss: 0.0945\n",
      "Epoch 28/100\n",
      "4/4 [==============================] - 0s 2ms/sample - loss: 0.0889\n",
      "Epoch 29/100\n",
      "4/4 [==============================] - 0s 2ms/sample - loss: 0.0837\n",
      "Epoch 30/100\n",
      "4/4 [==============================] - 0s 2ms/sample - loss: 0.0787\n",
      "Epoch 31/100\n",
      "4/4 [==============================] - 0s 2ms/sample - loss: 0.0741\n",
      "Epoch 32/100\n",
      "4/4 [==============================] - 0s 2ms/sample - loss: 0.0697\n",
      "Epoch 33/100\n",
      "4/4 [==============================] - 0s 2ms/sample - loss: 0.0656\n",
      "Epoch 34/100\n",
      "4/4 [==============================] - 0s 2ms/sample - loss: 0.0617\n",
      "Epoch 35/100\n",
      "4/4 [==============================] - 0s 2ms/sample - loss: 0.0581\n",
      "Epoch 36/100\n",
      "4/4 [==============================] - 0s 2ms/sample - loss: 0.0547\n",
      "Epoch 37/100\n",
      "4/4 [==============================] - 0s 2ms/sample - loss: 0.0514\n",
      "Epoch 38/100\n",
      "4/4 [==============================] - 0s 2ms/sample - loss: 0.0484\n",
      "Epoch 39/100\n",
      "4/4 [==============================] - 0s 2ms/sample - loss: 0.0455\n",
      "Epoch 40/100\n",
      "4/4 [==============================] - 0s 2ms/sample - loss: 0.0429\n",
      "Epoch 41/100\n",
      "4/4 [==============================] - 0s 2ms/sample - loss: 0.0403\n",
      "Epoch 42/100\n",
      "4/4 [==============================] - 0s 2ms/sample - loss: 0.0380\n",
      "Epoch 43/100\n",
      "4/4 [==============================] - 0s 2ms/sample - loss: 0.0357\n",
      "Epoch 44/100\n",
      "4/4 [==============================] - 0s 2ms/sample - loss: 0.0336\n",
      "Epoch 45/100\n",
      "4/4 [==============================] - 0s 2ms/sample - loss: 0.0316\n",
      "Epoch 46/100\n",
      "4/4 [==============================] - 0s 2ms/sample - loss: 0.0298\n",
      "Epoch 47/100\n",
      "4/4 [==============================] - 0s 2ms/sample - loss: 0.0280\n",
      "Epoch 48/100\n",
      "4/4 [==============================] - 0s 2ms/sample - loss: 0.0264\n",
      "Epoch 49/100\n",
      "4/4 [==============================] - 0s 2ms/sample - loss: 0.0248\n",
      "Epoch 50/100\n",
      "4/4 [==============================] - 0s 2ms/sample - loss: 0.0233\n",
      "Epoch 51/100\n",
      "4/4 [==============================] - 0s 2ms/sample - loss: 0.0220\n",
      "Epoch 52/100\n",
      "4/4 [==============================] - 0s 2ms/sample - loss: 0.0207\n",
      "Epoch 53/100\n",
      "4/4 [==============================] - 0s 3ms/sample - loss: 0.0194\n",
      "Epoch 54/100\n",
      "4/4 [==============================] - 0s 2ms/sample - loss: 0.0183\n",
      "Epoch 55/100\n",
      "4/4 [==============================] - 0s 2ms/sample - loss: 0.0172\n",
      "Epoch 56/100\n",
      "4/4 [==============================] - 0s 2ms/sample - loss: 0.0162\n",
      "Epoch 57/100\n",
      "4/4 [==============================] - 0s 2ms/sample - loss: 0.0152\n",
      "Epoch 58/100\n",
      "4/4 [==============================] - 0s 2ms/sample - loss: 0.0143\n",
      "Epoch 59/100\n",
      "4/4 [==============================] - 0s 2ms/sample - loss: 0.0135\n",
      "Epoch 60/100\n",
      "4/4 [==============================] - 0s 2ms/sample - loss: 0.0127\n",
      "Epoch 61/100\n",
      "4/4 [==============================] - 0s 2ms/sample - loss: 0.0120\n",
      "Epoch 62/100\n",
      "4/4 [==============================] - 0s 2ms/sample - loss: 0.0113\n",
      "Epoch 63/100\n",
      "4/4 [==============================] - 0s 2ms/sample - loss: 0.0106\n",
      "Epoch 64/100\n",
      "4/4 [==============================] - 0s 2ms/sample - loss: 0.0100\n",
      "Epoch 65/100\n",
      "4/4 [==============================] - 0s 2ms/sample - loss: 0.0094\n",
      "Epoch 66/100\n",
      "4/4 [==============================] - 0s 2ms/sample - loss: 0.0088\n",
      "Epoch 67/100\n",
      "4/4 [==============================] - 0s 2ms/sample - loss: 0.0083\n",
      "Epoch 68/100\n",
      "4/4 [==============================] - 0s 2ms/sample - loss: 0.0078\n",
      "Epoch 69/100\n",
      "4/4 [==============================] - 0s 2ms/sample - loss: 0.0074\n",
      "Epoch 70/100\n",
      "4/4 [==============================] - 0s 2ms/sample - loss: 0.0069\n",
      "Epoch 71/100\n",
      "4/4 [==============================] - 0s 2ms/sample - loss: 0.0065\n",
      "Epoch 72/100\n",
      "4/4 [==============================] - 0s 2ms/sample - loss: 0.0061\n",
      "Epoch 73/100\n",
      "4/4 [==============================] - 0s 2ms/sample - loss: 0.0058\n",
      "Epoch 74/100\n",
      "4/4 [==============================] - 0s 2ms/sample - loss: 0.0054\n",
      "Epoch 75/100\n",
      "4/4 [==============================] - 0s 2ms/sample - loss: 0.0051\n",
      "Epoch 76/100\n",
      "4/4 [==============================] - 0s 2ms/sample - loss: 0.0048\n",
      "Epoch 77/100\n",
      "4/4 [==============================] - 0s 2ms/sample - loss: 0.0045\n",
      "Epoch 78/100\n",
      "4/4 [==============================] - 0s 2ms/sample - loss: 0.0043\n",
      "Epoch 79/100\n",
      "4/4 [==============================] - 0s 2ms/sample - loss: 0.0040\n",
      "Epoch 80/100\n",
      "4/4 [==============================] - 0s 2ms/sample - loss: 0.0038\n",
      "Epoch 81/100\n",
      "4/4 [==============================] - 0s 2ms/sample - loss: 0.0035\n",
      "Epoch 82/100\n",
      "4/4 [==============================] - 0s 2ms/sample - loss: 0.0033\n",
      "Epoch 83/100\n",
      "4/4 [==============================] - 0s 2ms/sample - loss: 0.0031\n",
      "Epoch 84/100\n",
      "4/4 [==============================] - 0s 2ms/sample - loss: 0.0030\n",
      "Epoch 85/100\n",
      "4/4 [==============================] - 0s 2ms/sample - loss: 0.0028\n",
      "Epoch 86/100\n",
      "4/4 [==============================] - 0s 2ms/sample - loss: 0.0026\n",
      "Epoch 87/100\n",
      "4/4 [==============================] - 0s 2ms/sample - loss: 0.0025\n",
      "Epoch 88/100\n",
      "4/4 [==============================] - 0s 2ms/sample - loss: 0.0023\n",
      "Epoch 89/100\n",
      "4/4 [==============================] - 0s 2ms/sample - loss: 0.0022\n",
      "Epoch 90/100\n",
      "4/4 [==============================] - 0s 2ms/sample - loss: 0.0021\n",
      "Epoch 91/100\n",
      "4/4 [==============================] - 0s 2ms/sample - loss: 0.0019\n",
      "Epoch 92/100\n",
      "4/4 [==============================] - 0s 2ms/sample - loss: 0.0018\n",
      "Epoch 93/100\n",
      "4/4 [==============================] - 0s 2ms/sample - loss: 0.0017\n",
      "Epoch 94/100\n",
      "4/4 [==============================] - 0s 2ms/sample - loss: 0.0016\n",
      "Epoch 95/100\n",
      "4/4 [==============================] - 0s 2ms/sample - loss: 0.0015\n",
      "Epoch 96/100\n",
      "4/4 [==============================] - 0s 2ms/sample - loss: 0.0014\n",
      "Epoch 97/100\n",
      "4/4 [==============================] - 0s 2ms/sample - loss: 0.0013\n",
      "Epoch 98/100\n",
      "4/4 [==============================] - 0s 2ms/sample - loss: 0.0013\n",
      "Epoch 99/100\n",
      "4/4 [==============================] - 0s 2ms/sample - loss: 0.0012\n",
      "Epoch 100/100\n",
      "4/4 [==============================] - 0s 2ms/sample - loss: 0.0011\n"
     ]
    }
   ],
   "source": [
    "history = tf.model.fit(x_train, y_train, epochs=100)"
   ]
  },
  {
   "cell_type": "code",
   "execution_count": 7,
   "metadata": {},
   "outputs": [
    {
     "name": "stdout",
     "output_type": "stream",
     "text": [
      "[[-3.9444249]\n",
      " [-2.9714048]]\n"
     ]
    }
   ],
   "source": [
    "y_predict = tf.model.predict(np.array([5,4]))\n",
    "print(y_predict)"
   ]
  },
  {
   "cell_type": "code",
   "execution_count": 8,
   "metadata": {},
   "outputs": [
    {
     "data": {
      "image/png": "[encoded data removed]",
      "text/plain": [
       "<Figure size 432x288 with 1 Axes>"
      ]
     },
     "metadata": {
      "needs_background": "light"
     },
     "output_type": "display_data"
    }
   ],
   "source": [
    "plt.plot(history.history['loss'])\n",
    "plt.title('Model loss')\n",
    "plt.ylabel('Loss')\n",
    "plt.xlabel('Epoch')\n",
    "plt.legend(['Train', 'Test'], loc = 'upper left')\n",
    "plt.show()"
   ]
  },
  {
   "cell_type": "markdown",
   "metadata": {},
   "source": [
    "그래프를 그릴때 여러개의 그래프를 같이 그릴 수 있는데, 이경우 각 그래프가 구분이 안되기 때문에, 그래프마다 라벨을 달고 이 라벨명을 출력할 수 있는데, 이를 `legend`라고 한다.\n",
    "\n",
    "출처: https://bcho.tistory.com/1201 [조대협의 블로그]"
   ]
  },
  {
   "cell_type": "markdown",
   "metadata": {},
   "source": [
    "Keras에서는 모델 학습을 위해 fit() 함수를 사용합니다. 이 때, 리턴값으로 학습 이력(History) 정보를 리턴합니다. 여기에는 다음과 같은 항목들이 포함되어 있습니다.\n",
    "\n",
    "아래 항목들은 매 epoch 마다의 값들이 저장되어 있습니다.\n",
    "\n",
    "loss : 훈련 손실값\n",
    "acc : 훈련 정확도\n",
    "val_loss : 검증 손실값\n",
    "val_acc : 검증 정확도\n",
    "\n",
    "출처: https://snowdeer.github.io/machine-learning/2018/01/11/keras-use-history-function/"
   ]
  },
  {
   "cell_type": "code",
   "execution_count": null,
   "metadata": {},
   "outputs": [],
   "source": []
  }
 ],
 "metadata": {
  "kernelspec": {
   "display_name": "Python 3",
   "language": "python",
   "name": "python3"
  },
  "language_info": {
   "codemirror_mode": {
    "name": "ipython",
    "version": 3
   },
   "file_extension": ".py",
   "mimetype": "text/x-python",
   "name": "python",
   "nbconvert_exporter": "python",
   "pygments_lexer": "ipython3",
   "version": "3.7.4"
  }
 },
 "nbformat": 4,
 "nbformat_minor": 2
}
